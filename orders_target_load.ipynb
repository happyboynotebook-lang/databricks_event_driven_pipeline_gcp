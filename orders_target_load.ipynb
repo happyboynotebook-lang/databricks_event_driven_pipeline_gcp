{
 "cells": [
  {
   "cell_type": "code",
   "execution_count": 0,
   "metadata": {
    "application/vnd.databricks.v1+cell": {
     "cellMetadata": {
      "byteLimit": 2048000,
      "rowLimit": 10000
     },
     "inputWidgets": {},
     "nuid": "0f7c4561-d5e7-42fb-b767-68acdd91edc2",
     "showTitle": false,
     "tableResultSettingsMap": {},
     "title": ""
    }
   },
   "outputs": [],
   "source": [
    "from delta.tables import *\n",
    "stage_table = \"incremental_load.default.orders_stage\"\n",
    "target_table =\"incremental_load.default.orders_target\"\n",
    "stage_table_df = spark.read.table(stage_table)"
   ]
  },
  {
   "cell_type": "code",
   "execution_count": 0,
   "metadata": {
    "application/vnd.databricks.v1+cell": {
     "cellMetadata": {
      "byteLimit": 2048000,
      "rowLimit": 10000
     },
     "inputWidgets": {},
     "nuid": "7c057524-a621-4e6a-b0b3-3e0deae0ce15",
     "showTitle": false,
     "tableResultSettingsMap": {},
     "title": ""
    }
   },
   "outputs": [],
   "source": [
    "if not spark.catalog.tableExists(target_table):\n",
    "    stage_table_df.write.format('delta').saveAsTable(target_table)\n",
    "else:\n",
    "    condition = \"stage.tracking_num = target.tracking_num\"\n",
    "    target_table_df =DeltaTable.forName(spark,target_table)\n",
    "    target_table_df.alias(\"target\").merge(stage_table_df.alias(\"stage\"),condition)\\\n",
    "        .whenMatchedDelete()\\\n",
    "            .execute()\n",
    "    stage_table_df.write.format(\"delta\").mode(\"append\").saveAsTable(target_table)\n",
    "\n",
    "  "
   ]
  }
 ],
 "metadata": {
  "application/vnd.databricks.v1+notebook": {
   "computePreferences": null,
   "dashboards": [],
   "environmentMetadata": {
    "base_environment": "",
    "environment_version": "2"
   },
   "inputWidgetPreferences": null,
   "language": "python",
   "notebookMetadata": {
    "mostRecentlyExecutedCommandWithImplicitDF": {
     "commandId": 6990623184767686,
     "dataframes": [
      "_sqldf"
     ]
    },
    "pythonIndentUnit": 4
   },
   "notebookName": "orders_target_load",
   "widgets": {}
  },
  "language_info": {
   "name": "python"
  }
 },
 "nbformat": 4,
 "nbformat_minor": 0
}
